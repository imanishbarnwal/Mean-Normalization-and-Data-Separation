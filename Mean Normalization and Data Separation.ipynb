{
 "cells": [
  {
   "cell_type": "markdown",
   "metadata": {},
   "source": [
    "# Mean Normalization\n",
    "\n",
    "In machine learning we use large amounts of data to train our models. Some machine learning algorithms may require that the data is *normalized* in order to work correctly. The idea of normalization, also known as *feature scaling*, is to ensure that all the data is on a similar scale, *i.e.* that all the data takes on a similar range of values. For example, we might have a dataset that has values between 0 and 5,000. By normalizing the data we can make the range of values be between 0 and 1.\n",
    "\n",
    "In this lab, you will be performing a different kind of feature scaling known as *mean normalization*. Mean normalization will scale the data, but instead of making the values be between 0 and 1, it will distribute the values evenly in some small interval around zero. For example, if we have a dataset that has values between 0 and 5,000, after mean normalization the range of values will be distributed in some small range around 0, for example between -3 to 3. Because the range of values are distributed evenly around zero, this guarantees that the average (mean) of all elements will be zero. Therefore, when you perform *mean normalization* your data will not only be scaled but it will also have an average of zero. \n",
    "\n",
    "# To Do:\n",
    "\n",
    "You will start by importing NumPy and creating a rank 2 ndarray of random integers between 0 and 5,000 (inclusive) with 1000 rows and 20 columns. This array will simulate a dataset with a wide range of values. Fill in the code below"
   ]
  },
  {
   "cell_type": "code",
   "execution_count": 1,
   "metadata": {},
   "outputs": [
    {
     "name": "stdout",
     "output_type": "stream",
     "text": [
      "[[4526 2056 1094 ...,  115 1190 1516]\n",
      " [1412  540 2770 ..., 4075  749 1324]\n",
      " [3181 1468 4267 ..., 1441 1201  780]\n",
      " ..., \n",
      " [2117 2048 3613 ..., 2886 1797 4060]\n",
      " [ 604 3623  115 ..., 1841 3300 3851]\n",
      " [2066 1832 3219 ..., 3718  873 3134]]\n"
     ]
    }
   ],
   "source": [
    "# import NumPy into Python\n",
    "import numpy as np\n",
    "\n",
    "# Create a 1000 x 20 ndarray with random integers in the half-open interval [0, 5001).\n",
    "X = np.random.randint(0,5001,size=(1000,20))\n",
    "\n",
    "# print the shape of X\n",
    "print(X)"
   ]
  },
  {
   "cell_type": "markdown",
   "metadata": {},
   "source": [
    "Now that you created the array we will mean normalize it. We will perform mean normalization using the following equation:\n",
    "\n",
    "$\\mbox{Norm_Col}_i = \\frac{\\mbox{Col}_i - \\mu_i}{\\sigma_i}$\n",
    "\n",
    "where $\\mbox{Col}_i$ is the $i$th column of $X$, $\\mu_i$ is average of the values in the $i$th column of $X$, and $\\sigma_i$ is the standard deviation of the values in the $i$th column of $X$. In other words, mean normalization is performed by subtracting from each column of $X$ the average of its values, and then by dividing by the standard deviation of its values. In the space below, you will first calculate the average and standard deviation of each column of $X$. "
   ]
  },
  {
   "cell_type": "code",
   "execution_count": 2,
   "metadata": {},
   "outputs": [],
   "source": [
    "# Average of the values in each column of X\n",
    "ave_cols = X.mean(axis=0)\n",
    "# Standard Deviation of the values in each column of X\n",
    "std_cols = X.std(axis=0)"
   ]
  },
  {
   "cell_type": "markdown",
   "metadata": {},
   "source": [
    "If you have done the above calculations correctly, then `ave_cols` and `std_cols`, should both be vectors with shape `(20,)` since $X$ has 20 columns. You can verify this by filling the code below:"
   ]
  },
  {
   "cell_type": "code",
   "execution_count": 3,
   "metadata": {},
   "outputs": [
    {
     "name": "stdout",
     "output_type": "stream",
     "text": [
      "[ 2558.884  2456.949  2491.768  2539.097  2594.411  2540.38   2463.434\n",
      "  2516.378  2524.338  2465.324  2463.329  2505.962  2495.657  2488.817\n",
      "  2489.638  2489.288  2466.687  2593.265  2420.309  2484.501]\n",
      "[ 1458.14610535  1438.37460712  1462.71377452  1424.46610967  1430.90833112\n",
      "  1422.55679451  1437.44824312  1376.93559294  1445.63865048  1453.03107504\n",
      "  1458.69616191  1433.19234807  1441.45483986  1428.95206061  1441.20110427\n",
      "  1458.50085124  1432.52430172  1406.83820917  1457.61184734  1451.89710448]\n"
     ]
    }
   ],
   "source": [
    "# Print the shape of ave_cols\n",
    "print(ave_cols)\n",
    "\n",
    "# Print the shape of std_cols\n",
    "print(std_cols)"
   ]
  },
  {
   "cell_type": "markdown",
   "metadata": {},
   "source": [
    "You can now take advantage of Broadcasting to calculate the mean normalized version of $X$ in just one line of code using the equation above. Fill in the code below"
   ]
  },
  {
   "cell_type": "code",
   "execution_count": 4,
   "metadata": {},
   "outputs": [],
   "source": [
    "# Mean normalize X\n",
    "X_norm = (X-ave_cols)/std_cols"
   ]
  },
  {
   "cell_type": "markdown",
   "metadata": {},
   "source": [
    "If you have performed the mean normalization correctly, then the average of all the elements in $X_{\\tiny{\\mbox{norm}}}$ should be close to zero, and they should be evenly distributed in some small interval around zero. You can verify this by filing the code below:"
   ]
  },
  {
   "cell_type": "code",
   "execution_count": 5,
   "metadata": {},
   "outputs": [
    {
     "name": "stdout",
     "output_type": "stream",
     "text": [
      "[[ 1.34905274 -0.27875144 -0.95559912 ..., -1.76158494 -0.84405804\n",
      "  -0.66705898]\n",
      " [-0.78653572 -1.33271888  0.1902163  ...,  1.05323767 -1.14660772\n",
      "  -0.79929976]\n",
      " [ 0.4266486  -0.6875462   1.21365645 ..., -0.81904585 -0.83651145\n",
      "  -1.17398195]\n",
      " ..., \n",
      " [-0.30304508 -0.28431328  0.76654231 ...,  0.20808007 -0.42762345\n",
      "   1.08513131]\n",
      " [-1.34066401  0.81067268 -1.624903   ..., -0.53472034  0.60351526\n",
      "   0.94118171]\n",
      " [-0.338021   -0.43448278  0.49717998 ...,  0.79947715 -1.06153706\n",
      "   0.44734506]]\n",
      "-1.5687451338e-16\n",
      "-1.5687451338e-16\n"
     ]
    }
   ],
   "source": [
    "# Print the average of all the values of X_norm\n",
    "print(X_norm)\n",
    "\n",
    "# Print the average of the minimum value in each column of X_norm\n",
    "print(X_norm.mean(axis=0).min(axis=0))\n",
    "\n",
    "# Print the average of the maximum value in each column of X_norm\n",
    "print(X_norm.mean(axis=0).min(axis=0))"
   ]
  },
  {
   "cell_type": "markdown",
   "metadata": {},
   "source": [
    "You should note that since $X$ was created using random integers, the above values will vary. \n",
    "\n",
    "# Data Separation\n",
    "\n",
    "After the data has been mean normalized, it is customary in machine learnig to split our dataset into three sets:\n",
    "\n",
    "1. A Training Set\n",
    "2. A Cross Validation Set\n",
    "3. A Test Set\n",
    "\n",
    "The dataset is usually divided such that the Training Set contains 60% of the data, the Cross Validation Set contains 20% of the data, and the Test Set contains 20% of the data. \n",
    "\n",
    "In this part of the lab you will separate `X_norm` into a Training Set, Cross Validation Set, and a Test Set. Each data set will contain rows of `X_norm` chosen at random, making sure that we don't pick the same row twice. This will guarantee that all the rows of `X_norm` are chosen and randomly distributed among the three new sets.\n",
    "\n",
    "You will start by creating a rank 1 ndarray that contains a random permutation of the row indices of `X_norm`. You can do this by using the `np.random.permutation()` function. The `np.random.permutation(N)` function creates a random permutation of integers from 0 to `N - 1`. Let's see an example:"
   ]
  },
  {
   "cell_type": "code",
   "execution_count": 6,
   "metadata": {},
   "outputs": [
    {
     "data": {
      "text/plain": [
       "array([0, 2, 4, 3, 1])"
      ]
     },
     "execution_count": 6,
     "metadata": {},
     "output_type": "execute_result"
    }
   ],
   "source": [
    "# We create a random permutation of integers 0 to 4\n",
    "np.random.permutation(5)"
   ]
  },
  {
   "cell_type": "markdown",
   "metadata": {},
   "source": [
    "# To Do\n",
    "\n",
    "In the space below create a rank 1 ndarray that contains a random permutation of the row indices of `X_norm`. You can do this in one line of code by extracting the number of rows of `X_norm` using the `shape` attribute and then passing it to the  `np.random.permutation()` function. Remember the `shape` attribute returns a tuple with two numbers in the form `(rows,columns)`."
   ]
  },
  {
   "cell_type": "code",
   "execution_count": 7,
   "metadata": {},
   "outputs": [
    {
     "name": "stdout",
     "output_type": "stream",
     "text": [
      "[164 237  22 776 266 566 772 486  38  57 955  16 867 669 194  91 870 982\n",
      " 705 540 925 578 661 395 740 227 532 734 733 857 709 523 561 359 556 101\n",
      "  56 520 349  51 758 746 681 953 392 220 766 823 608 168 116 978 338 449\n",
      " 174 492 113 484 162 854 300 883 915 286 213 551 205 747 437   8 429 757\n",
      " 398  76 531 507 534 462 257 801 821 761 602 616 620 639 474 722  95 452\n",
      " 769   2 380  24 994 223 331  81 876 775 549 765 671 827 730 641 767 535\n",
      " 718 966 606 938 828 753   7 687 530 362 654 989 542 179 849 863 708  47\n",
      " 559 478 424 726 406 252  39 421 146 371 509 195 472 664 198 910 784 517\n",
      " 850  46 923 685 862 438 508 751 706 166 513 841 441 872 181 975 344 296\n",
      " 260  99 526 467 185 156 936 754 297 952 676 545 450 434 313 629 468 896\n",
      " 907 625 280 400 999 918 414 868  80 929 279  44 553 678 372 787 803 145\n",
      " 563 673 518 833  64 397 892 482  49 110 595 126 725 554 628 969 604 976\n",
      " 212 786 873 222 259  68 495 491 290 521 586 642 458 697 215 649 264 160\n",
      " 701 281 737 968 605 694 417  45 768 107 519 139 299 991 582 138 140 861\n",
      " 465 964   0 312 589  21 596 783 258 630 403 485 435 745 731 984 738 382\n",
      " 176 647 990 470 735 115 117 835 900 798 480 632 859 564 334 202 648 603\n",
      " 327 339 104 541 811 749 311 201 515 724  60 977 581 899 159 248 493 326\n",
      " 959 221 127 721 894 295  70 756 983 800 732 813 514 905  14 459  72 182\n",
      " 118 391 682 161 878 793 318 309 461 820 778 503 412  62 770 330 617 292\n",
      " 314 971 425 133 980 826 431 688 572 488 752  78 301 268  17 350 974 842\n",
      " 840 748 780 136  54 802 163 794 407 851 631 381  88 614  33 696 242 970\n",
      "  87 322 274 364 997 423 792 699 460 838  73 211 773 963 308 291 245 206\n",
      " 416 619 571 623  74 125 321 818 233 626 607 232  19 169 409 576 684 439\n",
      " 155 207 273 562 142 693 789 729 845 189 663 131 967 832 150 172 612 546\n",
      " 410 188 175 310  77 151 866 148 916 239 852 411 504 158 247 378 588 184\n",
      " 275 111 132  89 645 668 781 289 203  15 283 256 707 986  50 909 716 567\n",
      " 197 112 662 307 875 190 646  36 972 353 895 226 366 911 824 634 183  29\n",
      " 643 815 262 177 490 902  48 276 272 795 988 481 930  28 224 638 393 152\n",
      "  10 263 961 204 744 285 869  20 167 943 141 250 704 837 924 333 365 476\n",
      " 665 165 340 921 278 269 591 717 951 236  84 246  52 440 510 674 506 719\n",
      " 427  71 856 469 134 209 249 689 270 135 396  25 615 153 511 525 897 543\n",
      " 637 284 825 965 432 305 108 345 912 255 691   9 418 251  12 834 996 934\n",
      " 771 755 864 579 377 538 336 240 555 901 636   3 659 192 121 539 217 122\n",
      " 451 234 790 464 497 302  35 494 442 814  31 316 455 357 355   5 956 698\n",
      " 457  96  59 186 593  92 655 369 415 463 877 454 422 375 848 178 587 917\n",
      " 225 727  27  69 570 500 670 785 196 323 560 448 680 376 360 193 597 599\n",
      " 742  23 294 522 949 157   6 610 293 361 880  43 760 590 592 981 683 891\n",
      " 979 487 932 843 354 558 533 238  37 124 600 574 548 624 230 962 342 933\n",
      " 913 332 370 885 218 335 927 428 471 658 568  98 267 805 384 810 884 100\n",
      " 779 404 985 960 995 613 686 444 871 282  13 931 888 879 243 528 379 337\n",
      " 149 253 831 143 390 103 922  30 261 644 703 777 446 947 130 351 505 812\n",
      " 764 544 946 109 728 420 903 144 320 524 672 317 498 402 855 473 277 935\n",
      " 829 618 102 750 527  79 304  34 627 675  42 865 937 942 640 700  61 710\n",
      " 367 137 550 387 187 657 191 948 120 170 791 477 154  53 653 695 714 992\n",
      " 844 611 557 512 105  40 348 893   1  93 200 386 547 839 456 830 928 886\n",
      " 315 288 677 652 809  58 347 496 797 501 537  75 651 882 817 741  18 426\n",
      " 399 957  90 926 598 944 580 231 656 199  83 808 447 244 208 609 635 898\n",
      " 214 298 401 846 887 123 306 489 210 106  97 919 743 324 998 762 216  65\n",
      "  82 577 385 666 945 383 858 889 621  85 341 419 819   4 405 622 173 573\n",
      " 228 583 114 346 950 389 235 443 853 904 860 660 529 368  67 479 836 723\n",
      " 328 128 739 319 343 759 502 601 394 702 180 807 329  55 436 388 499 374\n",
      " 575 906 711 993 763 271 822 914 679 516 303 552 408  63 690 466 475 171\n",
      " 692 633 847 358 890 229 363 806 265 939 433 129 954  94 565 973 940 958\n",
      " 585 774 254 584 881  26 536 874 920 650 594  86  66  32 667 712 241 356\n",
      " 219  41 373 782 713 352  11 445 720 325 569 430 736 788 119 799 987 287\n",
      " 908 453 413 796 941 816 147 804 483 715]\n"
     ]
    }
   ],
   "source": [
    "# Create a rank 1 ndarray that contains a random permutation of the row indices of `X_norm`\n",
    "row_indices = np.random.permutation(X_norm.shape[0])\n",
    "print(row_indices)"
   ]
  },
  {
   "cell_type": "markdown",
   "metadata": {},
   "source": [
    "Now you can create the three datasets using the `row_indices` ndarray to select the rows that will go into each dataset. Rememeber that the Training Set contains 60% of the data, the Cross Validation Set contains 20% of the data, and the Test Set contains 20% of the data. Each set requires just one line of code to create. Fill in the code below"
   ]
  },
  {
   "cell_type": "code",
   "execution_count": 8,
   "metadata": {},
   "outputs": [],
   "source": [
    "# Make any necessary calculations.\n",
    "# You can save your calculations into variables to use later.\n",
    "training_idx =row_indices[:(row_indices.shape[0]*60)//100]\n",
    "crossVal_idx = row_indices[(row_indices.shape[0]*60)//100:(row_indices.shape[0]*80)//100]\n",
    "test_idx = row_indices[(row_indices.shape[0]*80)//100:row_indices.shape[0]]\n",
    "\n",
    "# Create a Training Set\n",
    "X_train = X_norm[training_idx,:]\n",
    "\n",
    "# Create a Cross Validation Set\n",
    "X_crossVal = X_norm[crossVal_idx,:]\n",
    "\n",
    "# Create a Test Set\n",
    "X_test = X_norm[test_idx,:]"
   ]
  },
  {
   "cell_type": "markdown",
   "metadata": {},
   "source": [
    "If you performed the above calculations correctly, then `X_tain` should have 600 rows and 20 columns, `X_crossVal` should have 200 rows and 20 columns, and `X_test` should have 200 rows and 20 columns. You can verify this by filling the code below:"
   ]
  },
  {
   "cell_type": "code",
   "execution_count": 9,
   "metadata": {},
   "outputs": [
    {
     "name": "stdout",
     "output_type": "stream",
     "text": [
      "(600, 20)\n",
      "(200, 20)\n",
      "(200, 20)\n"
     ]
    }
   ],
   "source": [
    "# Print the shape of X_train\n",
    "print(X_train.shape)\n",
    "\n",
    "# Print the shape of X_crossVal\n",
    "print(X_crossVal.shape)\n",
    "\n",
    "# Print the shape of X_test\n",
    "print(X_test.shape)"
   ]
  },
  {
   "cell_type": "code",
   "execution_count": null,
   "metadata": {},
   "outputs": [],
   "source": []
  }
 ],
 "metadata": {
  "kernelspec": {
   "display_name": "Python 3",
   "language": "python",
   "name": "python3"
  },
  "language_info": {
   "codemirror_mode": {
    "name": "ipython",
    "version": 3
   },
   "file_extension": ".py",
   "mimetype": "text/x-python",
   "name": "python",
   "nbconvert_exporter": "python",
   "pygments_lexer": "ipython3",
   "version": "3.6.3"
  }
 },
 "nbformat": 4,
 "nbformat_minor": 2
}
